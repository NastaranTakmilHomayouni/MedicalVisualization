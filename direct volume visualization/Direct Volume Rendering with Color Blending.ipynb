{
 "cells": [
  {
   "cell_type": "markdown",
   "id": "da072cf7",
   "metadata": {},
   "source": [
    "<b> Preparation <b/>"
   ]
  },
  {
   "cell_type": "code",
   "execution_count": 1,
   "id": "93a0486a",
   "metadata": {},
   "outputs": [
    {
     "name": "stdout",
     "output_type": "stream",
     "text": [
      "Collecting ipyvolume\n",
      "  Downloading ipyvolume-0.6.1-py3-none-any.whl (1.6 MB)\n",
      "Requirement already satisfied: ipywidgets>=7.0.0 in c:\\users\\nasta\\anaconda3\\lib\\site-packages (from ipyvolume) (7.6.5)\n",
      "Requirement already satisfied: Pillow in c:\\users\\nasta\\anaconda3\\lib\\site-packages (from ipyvolume) (9.1.1)\n",
      "Collecting ipyvue>=1.7.0\n",
      "  Downloading ipyvue-1.9.0-py2.py3-none-any.whl (2.7 MB)\n",
      "Collecting ipywebrtc\n",
      "  Downloading ipywebrtc-0.6.0-py2.py3-none-any.whl (260 kB)\n",
      "Requirement already satisfied: numpy in c:\\users\\nasta\\appdata\\roaming\\python\\python39\\site-packages (from ipyvolume) (1.22.3)\n",
      "Requirement already satisfied: traittypes in c:\\users\\nasta\\anaconda3\\lib\\site-packages (from ipyvolume) (0.2.1)\n",
      "Collecting pythreejs>=2.4.0\n",
      "  Downloading pythreejs-2.4.2-py3-none-any.whl (3.4 MB)\n",
      "Requirement already satisfied: matplotlib in c:\\users\\nasta\\anaconda3\\lib\\site-packages (from ipyvolume) (3.4.3)\n",
      "Collecting bqplot\n",
      "  Downloading bqplot-0.12.36-py2.py3-none-any.whl (1.2 MB)\n",
      "Requirement already satisfied: requests in c:\\users\\nasta\\anaconda3\\lib\\site-packages (from ipyvolume) (2.26.0)\n",
      "Collecting ipyvuetify\n",
      "  Downloading ipyvuetify-1.8.4-py2.py3-none-any.whl (11.7 MB)\n",
      "Requirement already satisfied: traitlets in c:\\users\\nasta\\anaconda3\\lib\\site-packages (from ipyvolume) (5.1.0)\n",
      "Requirement already satisfied: nbformat>=4.2.0 in c:\\users\\nasta\\anaconda3\\lib\\site-packages (from ipywidgets>=7.0.0->ipyvolume) (5.1.3)\n",
      "Requirement already satisfied: ipython>=4.0.0 in c:\\users\\nasta\\anaconda3\\lib\\site-packages (from ipywidgets>=7.0.0->ipyvolume) (7.29.0)\n",
      "Requirement already satisfied: widgetsnbextension~=3.5.0 in c:\\users\\nasta\\anaconda3\\lib\\site-packages (from ipywidgets>=7.0.0->ipyvolume) (3.5.1)\n",
      "Requirement already satisfied: ipython-genutils~=0.2.0 in c:\\users\\nasta\\anaconda3\\lib\\site-packages (from ipywidgets>=7.0.0->ipyvolume) (0.2.0)\n",
      "Requirement already satisfied: jupyterlab-widgets>=1.0.0 in c:\\users\\nasta\\anaconda3\\lib\\site-packages (from ipywidgets>=7.0.0->ipyvolume) (1.0.0)\n",
      "Requirement already satisfied: ipykernel>=4.5.1 in c:\\users\\nasta\\anaconda3\\lib\\site-packages (from ipywidgets>=7.0.0->ipyvolume) (6.4.1)\n",
      "Requirement already satisfied: matplotlib-inline<0.2.0,>=0.1.0 in c:\\users\\nasta\\anaconda3\\lib\\site-packages (from ipykernel>=4.5.1->ipywidgets>=7.0.0->ipyvolume) (0.1.2)\n",
      "Requirement already satisfied: jupyter-client<8.0 in c:\\users\\nasta\\anaconda3\\lib\\site-packages (from ipykernel>=4.5.1->ipywidgets>=7.0.0->ipyvolume) (6.1.12)\n",
      "Requirement already satisfied: tornado<7.0,>=4.2 in c:\\users\\nasta\\anaconda3\\lib\\site-packages (from ipykernel>=4.5.1->ipywidgets>=7.0.0->ipyvolume) (6.1)\n",
      "Requirement already satisfied: debugpy<2.0,>=1.0.0 in c:\\users\\nasta\\anaconda3\\lib\\site-packages (from ipykernel>=4.5.1->ipywidgets>=7.0.0->ipyvolume) (1.4.1)\n",
      "Requirement already satisfied: colorama in c:\\users\\nasta\\anaconda3\\lib\\site-packages (from ipython>=4.0.0->ipywidgets>=7.0.0->ipyvolume) (0.4.4)\n",
      "Requirement already satisfied: backcall in c:\\users\\nasta\\anaconda3\\lib\\site-packages (from ipython>=4.0.0->ipywidgets>=7.0.0->ipyvolume) (0.2.0)\n",
      "Requirement already satisfied: setuptools>=18.5 in c:\\users\\nasta\\anaconda3\\lib\\site-packages (from ipython>=4.0.0->ipywidgets>=7.0.0->ipyvolume) (58.0.4)\n",
      "Requirement already satisfied: decorator in c:\\users\\nasta\\anaconda3\\lib\\site-packages (from ipython>=4.0.0->ipywidgets>=7.0.0->ipyvolume) (5.1.0)\n",
      "Requirement already satisfied: jedi>=0.16 in c:\\users\\nasta\\anaconda3\\lib\\site-packages (from ipython>=4.0.0->ipywidgets>=7.0.0->ipyvolume) (0.18.0)\n",
      "Requirement already satisfied: pygments in c:\\users\\nasta\\anaconda3\\lib\\site-packages (from ipython>=4.0.0->ipywidgets>=7.0.0->ipyvolume) (2.10.0)\n",
      "Requirement already satisfied: pickleshare in c:\\users\\nasta\\anaconda3\\lib\\site-packages (from ipython>=4.0.0->ipywidgets>=7.0.0->ipyvolume) (0.7.5)\n",
      "Requirement already satisfied: prompt-toolkit!=3.0.0,!=3.0.1,<3.1.0,>=2.0.0 in c:\\users\\nasta\\anaconda3\\lib\\site-packages (from ipython>=4.0.0->ipywidgets>=7.0.0->ipyvolume) (3.0.20)\n",
      "Requirement already satisfied: parso<0.9.0,>=0.8.0 in c:\\users\\nasta\\anaconda3\\lib\\site-packages (from jedi>=0.16->ipython>=4.0.0->ipywidgets>=7.0.0->ipyvolume) (0.8.2)\n",
      "Requirement already satisfied: pyzmq>=13 in c:\\users\\nasta\\anaconda3\\lib\\site-packages (from jupyter-client<8.0->ipykernel>=4.5.1->ipywidgets>=7.0.0->ipyvolume) (22.2.1)\n",
      "Requirement already satisfied: jupyter-core>=4.6.0 in c:\\users\\nasta\\anaconda3\\lib\\site-packages (from jupyter-client<8.0->ipykernel>=4.5.1->ipywidgets>=7.0.0->ipyvolume) (4.8.1)\n",
      "Requirement already satisfied: python-dateutil>=2.1 in c:\\users\\nasta\\anaconda3\\lib\\site-packages (from jupyter-client<8.0->ipykernel>=4.5.1->ipywidgets>=7.0.0->ipyvolume) (2.8.2)\n",
      "Requirement already satisfied: pywin32>=1.0 in c:\\users\\nasta\\anaconda3\\lib\\site-packages (from jupyter-core>=4.6.0->jupyter-client<8.0->ipykernel>=4.5.1->ipywidgets>=7.0.0->ipyvolume) (228)\n",
      "Requirement already satisfied: jsonschema!=2.5.0,>=2.4 in c:\\users\\nasta\\anaconda3\\lib\\site-packages (from nbformat>=4.2.0->ipywidgets>=7.0.0->ipyvolume) (3.2.0)\n",
      "Requirement already satisfied: attrs>=17.4.0 in c:\\users\\nasta\\anaconda3\\lib\\site-packages (from jsonschema!=2.5.0,>=2.4->nbformat>=4.2.0->ipywidgets>=7.0.0->ipyvolume) (21.2.0)\n",
      "Requirement already satisfied: six>=1.11.0 in c:\\users\\nasta\\anaconda3\\lib\\site-packages (from jsonschema!=2.5.0,>=2.4->nbformat>=4.2.0->ipywidgets>=7.0.0->ipyvolume) (1.16.0)\n",
      "Requirement already satisfied: pyrsistent>=0.14.0 in c:\\users\\nasta\\anaconda3\\lib\\site-packages (from jsonschema!=2.5.0,>=2.4->nbformat>=4.2.0->ipywidgets>=7.0.0->ipyvolume) (0.18.0)\n",
      "Requirement already satisfied: wcwidth in c:\\users\\nasta\\anaconda3\\lib\\site-packages (from prompt-toolkit!=3.0.0,!=3.0.1,<3.1.0,>=2.0.0->ipython>=4.0.0->ipywidgets>=7.0.0->ipyvolume) (0.2.5)\n",
      "Requirement already satisfied: ipydatawidgets>=1.1.1 in c:\\users\\nasta\\anaconda3\\lib\\site-packages (from pythreejs>=2.4.0->ipyvolume) (4.3.2)\n",
      "Requirement already satisfied: notebook>=4.4.1 in c:\\users\\nasta\\anaconda3\\lib\\site-packages (from widgetsnbextension~=3.5.0->ipywidgets>=7.0.0->ipyvolume) (6.4.5)\n",
      "Requirement already satisfied: Send2Trash>=1.5.0 in c:\\users\\nasta\\anaconda3\\lib\\site-packages (from notebook>=4.4.1->widgetsnbextension~=3.5.0->ipywidgets>=7.0.0->ipyvolume) (1.8.0)\n",
      "Requirement already satisfied: jinja2 in c:\\users\\nasta\\anaconda3\\lib\\site-packages (from notebook>=4.4.1->widgetsnbextension~=3.5.0->ipywidgets>=7.0.0->ipyvolume) (2.11.3)\n",
      "Requirement already satisfied: prometheus-client in c:\\users\\nasta\\anaconda3\\lib\\site-packages (from notebook>=4.4.1->widgetsnbextension~=3.5.0->ipywidgets>=7.0.0->ipyvolume) (0.11.0)\n",
      "Requirement already satisfied: terminado>=0.8.3 in c:\\users\\nasta\\anaconda3\\lib\\site-packages (from notebook>=4.4.1->widgetsnbextension~=3.5.0->ipywidgets>=7.0.0->ipyvolume) (0.9.4)\n",
      "Requirement already satisfied: argon2-cffi in c:\\users\\nasta\\anaconda3\\lib\\site-packages (from notebook>=4.4.1->widgetsnbextension~=3.5.0->ipywidgets>=7.0.0->ipyvolume) (20.1.0)\n",
      "Requirement already satisfied: nbconvert in c:\\users\\nasta\\anaconda3\\lib\\site-packages (from notebook>=4.4.1->widgetsnbextension~=3.5.0->ipywidgets>=7.0.0->ipyvolume) (6.1.0)\n",
      "Requirement already satisfied: pywinpty>=0.5 in c:\\users\\nasta\\anaconda3\\lib\\site-packages (from terminado>=0.8.3->notebook>=4.4.1->widgetsnbextension~=3.5.0->ipywidgets>=7.0.0->ipyvolume) (0.5.7)\n",
      "Requirement already satisfied: cffi>=1.0.0 in c:\\users\\nasta\\anaconda3\\lib\\site-packages (from argon2-cffi->notebook>=4.4.1->widgetsnbextension~=3.5.0->ipywidgets>=7.0.0->ipyvolume) (1.14.6)\n",
      "Requirement already satisfied: pycparser in c:\\users\\nasta\\anaconda3\\lib\\site-packages (from cffi>=1.0.0->argon2-cffi->notebook>=4.4.1->widgetsnbextension~=3.5.0->ipywidgets>=7.0.0->ipyvolume) (2.20)\n",
      "Requirement already satisfied: pandas<2.0.0,>=1.0.0 in c:\\users\\nasta\\anaconda3\\lib\\site-packages (from bqplot->ipyvolume) (1.3.4)\n",
      "Requirement already satisfied: pytz>=2017.3 in c:\\users\\nasta\\anaconda3\\lib\\site-packages (from pandas<2.0.0,>=1.0.0->bqplot->ipyvolume) (2021.3)\n",
      "Requirement already satisfied: MarkupSafe>=0.23 in c:\\users\\nasta\\anaconda3\\lib\\site-packages (from jinja2->notebook>=4.4.1->widgetsnbextension~=3.5.0->ipywidgets>=7.0.0->ipyvolume) (1.1.1)\n",
      "Requirement already satisfied: kiwisolver>=1.0.1 in c:\\users\\nasta\\anaconda3\\lib\\site-packages (from matplotlib->ipyvolume) (1.3.1)\n",
      "Requirement already satisfied: cycler>=0.10 in c:\\users\\nasta\\anaconda3\\lib\\site-packages (from matplotlib->ipyvolume) (0.10.0)\n",
      "Requirement already satisfied: pyparsing>=2.2.1 in c:\\users\\nasta\\anaconda3\\lib\\site-packages (from matplotlib->ipyvolume) (3.0.4)\n",
      "Requirement already satisfied: pandocfilters>=1.4.1 in c:\\users\\nasta\\anaconda3\\lib\\site-packages (from nbconvert->notebook>=4.4.1->widgetsnbextension~=3.5.0->ipywidgets>=7.0.0->ipyvolume) (1.4.3)\n",
      "Requirement already satisfied: defusedxml in c:\\users\\nasta\\anaconda3\\lib\\site-packages (from nbconvert->notebook>=4.4.1->widgetsnbextension~=3.5.0->ipywidgets>=7.0.0->ipyvolume) (0.7.1)\n",
      "Requirement already satisfied: jupyterlab-pygments in c:\\users\\nasta\\anaconda3\\lib\\site-packages (from nbconvert->notebook>=4.4.1->widgetsnbextension~=3.5.0->ipywidgets>=7.0.0->ipyvolume) (0.1.2)\n",
      "Requirement already satisfied: bleach in c:\\users\\nasta\\anaconda3\\lib\\site-packages (from nbconvert->notebook>=4.4.1->widgetsnbextension~=3.5.0->ipywidgets>=7.0.0->ipyvolume) (4.0.0)\n",
      "Requirement already satisfied: nbclient<0.6.0,>=0.5.0 in c:\\users\\nasta\\anaconda3\\lib\\site-packages (from nbconvert->notebook>=4.4.1->widgetsnbextension~=3.5.0->ipywidgets>=7.0.0->ipyvolume) (0.5.3)\n",
      "Requirement already satisfied: testpath in c:\\users\\nasta\\anaconda3\\lib\\site-packages (from nbconvert->notebook>=4.4.1->widgetsnbextension~=3.5.0->ipywidgets>=7.0.0->ipyvolume) (0.5.0)\n",
      "Requirement already satisfied: mistune<2,>=0.8.1 in c:\\users\\nasta\\anaconda3\\lib\\site-packages (from nbconvert->notebook>=4.4.1->widgetsnbextension~=3.5.0->ipywidgets>=7.0.0->ipyvolume) (0.8.4)\n",
      "Requirement already satisfied: entrypoints>=0.2.2 in c:\\users\\nasta\\anaconda3\\lib\\site-packages (from nbconvert->notebook>=4.4.1->widgetsnbextension~=3.5.0->ipywidgets>=7.0.0->ipyvolume) (0.3)\n",
      "Requirement already satisfied: async-generator in c:\\users\\nasta\\anaconda3\\lib\\site-packages (from nbclient<0.6.0,>=0.5.0->nbconvert->notebook>=4.4.1->widgetsnbextension~=3.5.0->ipywidgets>=7.0.0->ipyvolume) (1.10)\n",
      "Requirement already satisfied: nest-asyncio in c:\\users\\nasta\\anaconda3\\lib\\site-packages (from nbclient<0.6.0,>=0.5.0->nbconvert->notebook>=4.4.1->widgetsnbextension~=3.5.0->ipywidgets>=7.0.0->ipyvolume) (1.5.1)\n",
      "Requirement already satisfied: packaging in c:\\users\\nasta\\anaconda3\\lib\\site-packages (from bleach->nbconvert->notebook>=4.4.1->widgetsnbextension~=3.5.0->ipywidgets>=7.0.0->ipyvolume) (21.0)\n",
      "Requirement already satisfied: webencodings in c:\\users\\nasta\\anaconda3\\lib\\site-packages (from bleach->nbconvert->notebook>=4.4.1->widgetsnbextension~=3.5.0->ipywidgets>=7.0.0->ipyvolume) (0.5.1)\n",
      "Requirement already satisfied: charset-normalizer~=2.0.0 in c:\\users\\nasta\\anaconda3\\lib\\site-packages (from requests->ipyvolume) (2.0.4)\n",
      "Requirement already satisfied: urllib3<1.27,>=1.21.1 in c:\\users\\nasta\\anaconda3\\lib\\site-packages (from requests->ipyvolume) (1.26.7)\n",
      "Requirement already satisfied: idna<4,>=2.5 in c:\\users\\nasta\\anaconda3\\lib\\site-packages (from requests->ipyvolume) (3.2)\n",
      "Requirement already satisfied: certifi>=2017.4.17 in c:\\users\\nasta\\anaconda3\\lib\\site-packages (from requests->ipyvolume) (2022.9.24)\n",
      "Installing collected packages: ipyvue, pythreejs, ipywebrtc, ipyvuetify, bqplot, ipyvolume\n",
      "Successfully installed bqplot-0.12.36 ipyvolume-0.6.1 ipyvue-1.9.0 ipyvuetify-1.8.4 ipywebrtc-0.6.0 pythreejs-2.4.2\n"
     ]
    },
    {
     "name": "stderr",
     "output_type": "stream",
     "text": [
      "WARNING: You are using pip version 22.1; however, version 23.0.1 is available.\n",
      "You should consider upgrading via the 'C:\\Users\\nasta\\anaconda3\\python.exe -m pip install --upgrade pip' command.\n"
     ]
    }
   ],
   "source": [
    "!pip install ipyvolume\n",
    "\n",
    "import ipyvolume as ipv\n",
    "import numpy as np # maths\n",
    "import matplotlib as mpl\n",
    "import matplotlib.pyplot as plt"
   ]
  },
  {
   "cell_type": "markdown",
   "id": "4dcedcf7",
   "metadata": {},
   "source": [
    "<b> Color Blending for Direct Volume Rendering <b/>"
   ]
  },
  {
   "cell_type": "code",
   "execution_count": 2,
   "id": "52e2af25",
   "metadata": {},
   "outputs": [],
   "source": [
    "# colors to be blended\n",
    "# At position 0 is the background color which is white with alpha 1 (opaque).\n",
    "# Position 1 to 3 are the colored cubes you have to blend.\n",
    "case1 = np.array([(1, 1, 1, 1), (0, 0, 1, 0.3), (0, 1, 0, 0.3), (1, 0, 0, 0.3)])\n",
    "case2 = np.array([(1, 1, 1, 1), (1, 0, 0, 0.3), (0, 1, 0, 0.3), (0, 0, 1, 0.3)])\n",
    "case3 = np.array([(1, 1, 1, 1), (0, 1, 0, 0.5), (0.5, 0.0, 0.5, 0.5), (1, 0.5, 0.5, 0.5)])\n",
    "case4 = np.array([(1, 1, 1, 1), (0.5, 1, 0.5, 1), (1, 0.0, 0.5, 1), (1, 0.5, 0.5, 1)])\n",
    "cases = [case1, case2, case3, case4]\n",
    "\n",
    "# Default color for last box\n",
    "# Overwirte this by you blending result.\n",
    "results_blending = np.array([(0.643,0.553,0.49,1),(0.49,0.553,0.643,1),(0.75,0.5,0.5,1),(1,0.5,0.5,1)])"
   ]
  },
  {
   "cell_type": "code",
   "execution_count": 3,
   "id": "68069f94",
   "metadata": {},
   "outputs": [
    {
     "name": "stdout",
     "output_type": "stream",
     "text": [
      "[0.643 0.553 0.49 ]\n",
      "[0.49  0.553 0.643]\n",
      "[0.75 0.5  0.5 ]\n",
      "[1.  0.5 0.5]\n",
      "[[0.643 0.553 0.49  0.3  ]\n",
      " [0.49  0.553 0.643 0.3  ]\n",
      " [0.75  0.5   0.5   0.5  ]\n",
      " [1.    0.5   0.5   1.   ]]\n"
     ]
    }
   ],
   "source": [
    "##########################################\n",
    "# Do the color blending here.\n",
    "# Write you results in `results_blending`\n",
    "# to use the code for the plot below.\n",
    "##########################################\n",
    "#-----case 1------------------------------\n",
    "#starting from background to blue-----------------------\n",
    "#formula is : C1 = C1*( 1- a0 ) + C0 * a0\n",
    "#a0=1 \n",
    "#c0=1, 1, 1\n",
    "#c1=c0=1, 1, 1\n",
    "#starting from blue to green----------------------------\n",
    "#formula is : C2 = C2*( 1- a1 ) + C1* a1\n",
    "#a1=0.3 \n",
    "#a2=0.3\n",
    "#c1=0, 0, 1\n",
    "#c2=0, 1, 0\n",
    "#c2=c2(0.7)+c1(0.3)=0, 0.7, 0 + 0, 0, 0.3 = 0, 0.7, 0.3\n",
    "#--und so weiter-----\n",
    "#the code:\n",
    "my_results_blending=np.empty(shape=(4,4))\n",
    "i=0\n",
    "for eachcase in cases:\n",
    "    C0_old=eachcase[0, 0:3]\n",
    "    C1_old=eachcase[1, 0:3]\n",
    "    C2_old=eachcase[2, 0:3]\n",
    "    C3_old=eachcase[3, 0:3]\n",
    "    #-----------------\n",
    "    a0=eachcase[0,-1]\n",
    "    a1=eachcase[1,-1]\n",
    "    a2=eachcase[2,-1]\n",
    "    a3=eachcase[3,-1]\n",
    "    #-------new values----\n",
    "    #C1_new=C0_old*a0 + (1-a0)*C1_old\n",
    "    #C2_new=C1_new*a1 + (1-a1)*C2_old\n",
    "    #C3_new=C2_new*a2 + (1-a2)*C3_old\n",
    "\n",
    "    #-------new values----\n",
    "    C1_new=C0_old*(1-a1)+C1_old*a1\n",
    "    C2_new=C1_new*(1-a2)+C2_old*a2\n",
    "    C3_new=C2_new*(1-a3)+C3_old*a3\n",
    "    #--------------------\n",
    "    \n",
    "    my_results_blending[i,0:3]=C3_new\n",
    "    print(C3_new)\n",
    "    my_results_blending[i,-1]=a3\n",
    "    i+=1\n",
    "\n",
    "print(my_results_blending)\n",
    "# e.g. you can get the rgb color tupel and the alpha value like this\n",
    "rgb = case1[1, 0:3]\n",
    "a = case1[1,-1]"
   ]
  },
  {
   "cell_type": "markdown",
   "id": "47fc85ad",
   "metadata": {},
   "source": [
    "<b> Visualize the Results <b/>"
   ]
  },
  {
   "cell_type": "code",
   "execution_count": 4,
   "id": "3879cda7",
   "metadata": {},
   "outputs": [
    {
     "data": {
      "image/png": "[encoded data removed]",
      "text/plain": [
       "<Figure size 864x216 with 4 Axes>"
      ]
     },
     "metadata": {
      "needs_background": "light"
     },
     "output_type": "display_data"
    }
   ],
   "source": [
    "def draw_blocks(ax, blocks, resulting_color):\n",
    "  ax.set_xlim3d(1, 0)\n",
    "  ax.set_ylim3d(1, 0)\n",
    "  ax.set_zlim3d(1, 0)\n",
    "  ax.axis('off')\n",
    "  ax.text(0.3, 0.5, 1, \"blend direction\", (0,1,-0.07), color='grey')\n",
    "  ax.text(1.2, 1, 1.3, \"viewer\", color='k')\n",
    "  ax.scatter(1, 1, 1, color=(0,0,0,0),edgecolor='k', s=200, marker='^')\n",
    "  ax.scatter(0.97, 0.98, 1, color='k', s=130, marker='o')\n",
    "\n",
    "  ax.bar3d(\n",
    "      0.3, 0, 0.3, 0.25, 0.25, 0.25,\n",
    "      color=(blocks[1,0], blocks[1,1], blocks[1,2], blocks[1,3]),\n",
    "      edgecolor='black')\n",
    "  ax.bar3d(\n",
    "      0.3, 0.25, 0.3, 0.25, 0.25, 0.25,\n",
    "      color=(blocks[2,0], blocks[2,1], blocks[2,2], blocks[2,3]),\n",
    "      edgecolor='black')\n",
    "  ax.bar3d(\n",
    "      0.3, 0.5, 0.3, 0.25, 0.25, 0.25,\n",
    "      color=(blocks[3,0], blocks[3,1], blocks[3,2], blocks[3,3]),\n",
    "      edgecolor='black')\n",
    "\n",
    "  ax.bar3d(\n",
    "      0.3, 1, 0.3, 0.25, 0.25, 0.25,\n",
    "      color= resulting_color,\n",
    "      edgecolor='black')\n",
    "\n",
    "  ax.quiver(0.07, 0.07, 0.4, 0, 1, 0, length=1.20, linewidths=3, color='grey')\n",
    "  ax.margins(y=1.05)\n",
    "\n",
    "\n",
    "fig, axs = plt.subplots(1, 4, constrained_layout=True, figsize=(len(cases)*3, 3), subplot_kw={'projection':'3d'})\n",
    "fig.suptitle('Four Cases of Simple Color Blending')\n",
    "for ax, case, resulting_color in zip(axs, cases, results_blending):\n",
    "  draw_blocks(ax, case, resulting_color)\n",
    "#plt.tight_layout()\n",
    "plt.show()"
   ]
  },
  {
   "cell_type": "code",
   "execution_count": null,
   "id": "68c6241e",
   "metadata": {},
   "outputs": [],
   "source": []
  }
 ],
 "metadata": {
  "kernelspec": {
   "display_name": "Python 3 (ipykernel)",
   "language": "python",
   "name": "python3"
  },
  "language_info": {
   "codemirror_mode": {
    "name": "ipython",
    "version": 3
   },
   "file_extension": ".py",
   "mimetype": "text/x-python",
   "name": "python",
   "nbconvert_exporter": "python",
   "pygments_lexer": "ipython3",
   "version": "3.9.7"
  }
 },
 "nbformat": 4,
 "nbformat_minor": 5
}
